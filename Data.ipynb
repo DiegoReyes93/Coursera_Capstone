{
    "cells": [
        {
            "cell_type": "markdown",
            "metadata": {
                "collapsed": true
            },
            "source": "# Mama's Bakery Franchise"
        },
        {
            "cell_type": "markdown",
            "metadata": {},
            "source": "## Data"
        },
        {
            "cell_type": "markdown",
            "metadata": {},
            "source": "### One of the best indicators to assure the success of a local business it's to check for local competitors. \n### First of all, we will use a public file of the locations of all the suburbs of Mexico City as reference. This file is avaialble at:  https://datos.cdmx.gob.mx/explore/dataset/coloniascdmx/download/?format=csv&timezone=America/Mexico_City&lang=es&use_labels_for_header=true&csv_separator=%2C \n\n### This file will help us perform an analysis with geo data using Foursquare. We will use the center of each suburb to check for the number of establishments that represent a direct competition to our franchise. \n\n### As from the possible Foursquare Venue Categories ( documented at: https://developer.foursquare.com/docs/build-with-foursquare/categories/ ) we will consider as direct competition the categories: Bakery, Cafeteria, Creperie and Donut Shop.\n\n\n### The final objetive of the data analysis is to provide a quantitative evaluation of the best suburbs (considering them from their geographical center) to have insight on where to open franchise establishments."
        }
    ],
    "metadata": {
        "kernelspec": {
            "display_name": "Python 3.6",
            "language": "python",
            "name": "python3"
        },
        "language_info": {
            "codemirror_mode": {
                "name": "ipython",
                "version": 3
            },
            "file_extension": ".py",
            "mimetype": "text/x-python",
            "name": "python",
            "nbconvert_exporter": "python",
            "pygments_lexer": "ipython3",
            "version": "3.6.9"
        }
    },
    "nbformat": 4,
    "nbformat_minor": 1
}