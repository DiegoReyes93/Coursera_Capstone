{
    "cells": [
        {
            "cell_type": "markdown",
            "metadata": {},
            "source": "# Mama's Bakery Franchise"
        },
        {
            "cell_type": "markdown",
            "metadata": {},
            "source": "***"
        },
        {
            "cell_type": "markdown",
            "metadata": {
                "collapsed": true
            },
            "source": "## **Bussiness Problem**"
        },
        {
            "cell_type": "markdown",
            "metadata": {},
            "source": "### The group of inversion BakeryArmy has interest in making a franchise out of the products of a local bakery. Its main products are cakes and cookies that have a great reception at a local level. \n### BakeryArmy is willing to invest in opening several stores all around Mexico City's suburbs. In order to assure its success, we have to do an analysis of the best locations around the center of the 1812 suburbs of the city considering the nearest direct competitors."
        },
        {
            "cell_type": "markdown",
            "metadata": {},
            "source": "***"
        },
        {
            "cell_type": "markdown",
            "metadata": {},
            "source": ""
        },
        {
            "cell_type": "markdown",
            "metadata": {},
            "source": ""
        },
        {
            "cell_type": "code",
            "execution_count": null,
            "metadata": {},
            "outputs": [],
            "source": ""
        }
    ],
    "metadata": {
        "kernelspec": {
            "display_name": "Python 3.6",
            "language": "python",
            "name": "python3"
        },
        "language_info": {
            "codemirror_mode": {
                "name": "ipython",
                "version": 3
            },
            "file_extension": ".py",
            "mimetype": "text/x-python",
            "name": "python",
            "nbconvert_exporter": "python",
            "pygments_lexer": "ipython3",
            "version": "3.6.9"
        }
    },
    "nbformat": 4,
    "nbformat_minor": 1
}